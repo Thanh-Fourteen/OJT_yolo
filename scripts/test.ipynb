{
 "cells": [
  {
   "cell_type": "code",
   "execution_count": 2,
   "metadata": {},
   "outputs": [
    {
     "name": "stderr",
     "output_type": "stream",
     "text": [
      "'CUDA_VISIBLE_DEVICES' is not recognized as an internal or external command,\n",
      "operable program or batch file.\n"
     ]
    }
   ],
   "source": [
    "CUDA_VISIBLE_DEVICES=0 python yoloxyz/train.py \\\n",
    "    --basemodel 'v9' \\\n",
    "    --weights weights/yolov9-c.pt \\\n",
    "    --cfg yoloxyz/cfg/architecture/yolov9-c.yaml \\\n",
    "    --hyp yoloxyz/cfg/hyp/hyp.scratch-high-v9.yaml \\\n",
    "    --data yoloxyz/cfg/data/food.yaml \\\n",
    "    --name finetune_v9 \\\n",
    "    --batch 4 \\\n",
    "    --epochs 2 \\\n",
    "    --imgsz 640 \\\n",
    "    --device 0 \\\n",
    "    --workers 2 \\\n",
    "    --close-mosaic 15 \\\n",
    "    --sync-bn \\\n",
    "    --min-items 0 \\\n",
    "    --detect-layer 'DualDDetect'"
   ]
  },
  {
   "cell_type": "code",
   "execution_count": null,
   "metadata": {},
   "outputs": [],
   "source": []
  }
 ],
 "metadata": {
  "kernelspec": {
   "display_name": "torch",
   "language": "python",
   "name": "python3"
  },
  "language_info": {
   "codemirror_mode": {
    "name": "ipython",
    "version": 3
   },
   "file_extension": ".py",
   "mimetype": "text/x-python",
   "name": "python",
   "nbconvert_exporter": "python",
   "pygments_lexer": "ipython3",
   "version": "3.9.19"
  }
 },
 "nbformat": 4,
 "nbformat_minor": 2
}
